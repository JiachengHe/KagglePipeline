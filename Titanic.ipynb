{
  "cells": [
    {
      "metadata": {
        "_uuid": "b57c7fba7ae31bacafdcfde43106252f43a0f36a",
        "trusted": true,
        "_cell_guid": "322e8e10-2793-4799-9cd7-0525afee0e12",
        "_kg_hide-output": true
      },
      "cell_type": "code",
      "source": "library(readr)\nlibrary(dplyr)\nlibrary(tidyr)\nlibrary(ggplot2)\nlibrary(tidytext)\nlibrary(caret)\nlibrary(glmnet)\nlibrary(xgboost)\nlibrary(doMC)\nlibrary(stringr)\nlibrary(Matrix)",
      "execution_count": 83,
      "outputs": []
    },
    {
      "metadata": {
        "_uuid": "35dec9a70a0821e75bbabbd7b450492d42ca8637",
        "trusted": true,
        "_cell_guid": "3d6a5e46-d4e8-42c8-9f88-6954d7f78cec",
        "_kg_hide-output": true,
        "_kg_hide-input": false
      },
      "cell_type": "code",
      "source": "df_train <- read_csv(\"../input/train.csv\")\ndf_test <- read_csv(\"../input/test.csv\")",
      "execution_count": 84,
      "outputs": [
        {
          "output_type": "stream",
          "text": "Parsed with column specification:\ncols(\n  PassengerId = col_double(),\n  Survived = col_double(),\n  Pclass = col_double(),\n  Name = col_character(),\n  Sex = col_character(),\n  Age = col_double(),\n  SibSp = col_double(),\n  Parch = col_double(),\n  Ticket = col_character(),\n  Fare = col_double(),\n  Cabin = col_character(),\n  Embarked = col_character()\n)\nParsed with column specification:\ncols(\n  PassengerId = col_double(),\n  Pclass = col_double(),\n  Name = col_character(),\n  Sex = col_character(),\n  Age = col_double(),\n  SibSp = col_double(),\n  Parch = col_double(),\n  Ticket = col_character(),\n  Fare = col_double(),\n  Cabin = col_character(),\n  Embarked = col_character()\n)\n",
          "name": "stderr"
        }
      ]
    },
    {
      "metadata": {
        "_uuid": "49b3d1f1ffc4b62aadd82c6e95348ffc0ccc7ba8",
        "trusted": true,
        "_cell_guid": "2e6f85d0-1bac-43a8-885d-e8937c0bc153"
      },
      "cell_type": "code",
      "source": "summary(df_train)\ndim(df_train)\ndim(df_test)",
      "execution_count": 98,
      "outputs": [
        {
          "output_type": "display_data",
          "data": {
            "text/plain": "  PassengerId       Survived      Pclass      Name               Sex     \n Min.   :  1.0   Min.   :0.0000   1:216   Length:891         female:314  \n 1st Qu.:223.5   1st Qu.:0.0000   2:184   Class :character   male  :577  \n Median :446.0   Median :0.0000   3:491   Mode  :character               \n Mean   :446.0   Mean   :0.3838                                          \n 3rd Qu.:668.5   3rd Qu.:1.0000                                          \n Max.   :891.0   Max.   :1.0000                                          \n                                                                         \n      Age            SibSp           Parch           Ticket         \n Min.   : 0.42   Min.   :0.000   Min.   :0.0000   Length:891        \n 1st Qu.:20.12   1st Qu.:0.000   1st Qu.:0.0000   Class :character  \n Median :28.00   Median :0.000   Median :0.0000   Mode  :character  \n Mean   :29.70   Mean   :0.523   Mean   :0.3816                     \n 3rd Qu.:38.00   3rd Qu.:1.000   3rd Qu.:0.0000                     \n Max.   :80.00   Max.   :8.000   Max.   :6.0000                     \n NA's   :177                                                        \n      Fare                Cabin     Embarked Cabin_letter      \n Min.   :  0.00   NA         :687   C :168   Length:891        \n 1st Qu.:  7.91   B96 B98    :  4   NA:  2   Class :character  \n Median : 14.45   C23 C25 C27:  4   Q : 77   Mode  :character  \n Mean   : 32.20   G6         :  4   S :644                     \n 3rd Qu.: 31.00   C22 C26    :  3                              \n Max.   :512.33   D          :  3                              \n                  (Other)    :186                              \n  Pclass_lmfit      Sex_lmfit       Cabin_lmfit        Embarked_lmfit  \n Min.   :0.2290   Min.   :0.1843   Min.   :0.0002623   Min.   :0.3275  \n 1st Qu.:0.2426   1st Qu.:0.1890   1st Qu.:0.2924908   1st Qu.:0.3314  \n Median :0.2609   Median :0.1945   Median :0.2987102   Median :0.3424  \n Mean   :0.3835   Mean   :0.3843   Mean   :0.3412498   Mean   :0.3839  \n 3rd Qu.:0.4933   3rd Qu.:0.7334   3rd Qu.:0.3092534   3rd Qu.:0.3828  \n Max.   :0.6304   Max.   :0.7639   Max.   :0.9997246   Max.   :0.5848  \n                                                                       "
          },
          "metadata": {}
        },
        {
          "output_type": "display_data",
          "data": {
            "text/plain": "[1] 891  17",
            "text/latex": "\\begin{enumerate*}\n\\item 891\n\\item 17\n\\end{enumerate*}\n",
            "text/markdown": "1. 891\n2. 17\n\n\n",
            "text/html": "<ol class=list-inline>\n\t<li>891</li>\n\t<li>17</li>\n</ol>\n"
          },
          "metadata": {}
        },
        {
          "output_type": "display_data",
          "data": {
            "text/plain": "[1] 418  11",
            "text/latex": "\\begin{enumerate*}\n\\item 418\n\\item 11\n\\end{enumerate*}\n",
            "text/markdown": "1. 418\n2. 11\n\n\n",
            "text/html": "<ol class=list-inline>\n\t<li>418</li>\n\t<li>11</li>\n</ol>\n"
          },
          "metadata": {}
        }
      ]
    },
    {
      "metadata": {
        "_uuid": "37e3e983731803cc7fcbd4edf97e4baf0818bb91",
        "trusted": true,
        "_cell_guid": "c1fc668a-0f14-41ec-ba7a-557978f20d2d"
      },
      "cell_type": "code",
      "source": "df_train$Cabin_letter <- ifelse(is.na(df_train$Cabin), \"NA\", str_sub(df_train$Cabin, 1, 1))\ndf_train <- replace_na(df_train, list(Pclass = \"NA\", Sex = \"NA\", Cabin = \"NA\", Embarked = \"NA\"))",
      "execution_count": 86,
      "outputs": []
    },
    {
      "metadata": {
        "_uuid": "904750ca9035d5f88c47647b83f4cf7f5d7964d3",
        "trusted": true,
        "_cell_guid": "aaf186ed-253b-465d-961b-fd227e13e2ee"
      },
      "cell_type": "code",
      "source": "factorize <- function(df, var_list) {\n    for (var in var_list) {\n        df[[var]] <- factor(df[[var]])\n    }\n    return(df)\n}\n\ndf_train <- factorize(df_train, list(\"Pclass\", \"Sex\", \"Cabin\", \"Embarked\"))\n",
      "execution_count": 87,
      "outputs": []
    },
    {
      "metadata": {
        "trusted": true,
        "_uuid": "db9b7b8c28a5d70356915a2c63f48aab7d79111e"
      },
      "cell_type": "code",
      "source": "categorical_to_lmfit <- function(varName, y_train, df, alpha=0, lambda=0) {\n    \n    y_train <- factor(y_train, label = c(\"N\", \"Y\"))    \n    trCon <- trainControl(method = \"cv\", number = 5, returnData = FALSE, \n                      savePredictions = \"final\", classProbs = TRUE)\n    glmnet_grid <- expand.grid(alpha = alpha, lambda = lambda)\n    equation <- as.formula(paste(\"~\", varName))\n    dummy <- sparse.model.matrix(equation, data = df)\n    lm_fit <- train(dummy, y_train, method = \"glmnet\", trControl = trCon, tuneGrid = glmnet_grid)\n    varName_lmfit <- paste0(varName, \"_lmfit\")\n    df[[varName_lmfit]] <- arrange(lm_fit$pred, rowIndex)$Y    \n    return(df)\n}\n",
      "execution_count": 88,
      "outputs": []
    },
    {
      "metadata": {
        "trusted": true,
        "_uuid": "fa8c86d2c4cf2783a5d36d5f60cc778dac3730d4"
      },
      "cell_type": "code",
      "source": "df_train <- categorical_to_lmfit(\"Pclass\", df_train$Survived, df_train)\ndf_train <- categorical_to_lmfit(\"Sex\", df_train$Survived, df_train)\ndf_train <- categorical_to_lmfit(\"Cabin_letter\", df_train$Survived, df_train)\ndf_train <- categorical_to_lmfit(\"Embarked\", df_train$Survived, df_train)",
      "execution_count": 89,
      "outputs": []
    },
    {
      "metadata": {
        "trusted": true,
        "_uuid": "9d4bbb2ee727862cdaffb3dc2657a8b3c8461425"
      },
      "cell_type": "code",
      "source": "table(df_train$Pclass)\ntable(df_train$Sex)\ntable(df_train$Embarked)\ntable(df_train$Cabin_letter)",
      "execution_count": 99,
      "outputs": [
        {
          "output_type": "display_data",
          "data": {
            "text/plain": "\n  1   2   3 \n216 184 491 "
          },
          "metadata": {}
        },
        {
          "output_type": "display_data",
          "data": {
            "text/plain": "\nfemale   male \n   314    577 "
          },
          "metadata": {}
        },
        {
          "output_type": "display_data",
          "data": {
            "text/plain": "\n  C  NA   Q   S \n168   2  77 644 "
          },
          "metadata": {}
        },
        {
          "output_type": "display_data",
          "data": {
            "text/plain": "\n  A   B   C   D   E   F   G  NA   T \n 15  47  59  33  32  13   4 687   1 "
          },
          "metadata": {}
        }
      ]
    },
    {
      "metadata": {
        "trusted": true,
        "_uuid": "e9ee79f0f7af98f5ec54dc4060280dde180752df"
      },
      "cell_type": "code",
      "source": "summary(df_train)",
      "execution_count": 7,
      "outputs": [
        {
          "output_type": "display_data",
          "data": {
            "text/plain": "  PassengerId       Survived      Pclass      Name               Sex     \n Min.   :  1.0   Min.   :0.0000   1:216   Length:891         female:314  \n 1st Qu.:223.5   1st Qu.:0.0000   2:184   Class :character   male  :577  \n Median :446.0   Median :0.0000   3:491   Mode  :character               \n Mean   :446.0   Mean   :0.3838                                          \n 3rd Qu.:668.5   3rd Qu.:1.0000                                          \n Max.   :891.0   Max.   :1.0000                                          \n                                                                         \n      Age            SibSp           Parch           Ticket         \n Min.   : 0.42   Min.   :0.000   Min.   :0.0000   Length:891        \n 1st Qu.:20.12   1st Qu.:0.000   1st Qu.:0.0000   Class :character  \n Median :28.00   Median :0.000   Median :0.0000   Mode  :character  \n Mean   :29.70   Mean   :0.523   Mean   :0.3816                     \n 3rd Qu.:38.00   3rd Qu.:1.000   3rd Qu.:0.0000                     \n Max.   :80.00   Max.   :8.000   Max.   :6.0000                     \n NA's   :177                                                        \n      Fare                Cabin     Embarked Cabin_letter      \n Min.   :  0.00   NA         :687   C :168   Length:891        \n 1st Qu.:  7.91   B96 B98    :  4   NA:  2   Class :character  \n Median : 14.45   C23 C25 C27:  4   Q : 77   Mode  :character  \n Mean   : 32.20   G6         :  4   S :644                     \n 3rd Qu.: 31.00   C22 C26    :  3                              \n Max.   :512.33   D          :  3                              \n                  (Other)    :186                              \n Pclass_fitted      Sex_fitted     Cabin_letter_fitted Embarked_fitted \n Min.   :0.2424   Min.   :0.1889   Min.   :0.0000      Min.   :0.3370  \n 1st Qu.:0.2424   1st Qu.:0.1889   1st Qu.:0.2999      1st Qu.:0.3370  \n Median :0.2424   Median :0.1889   Median :0.2999      Median :0.3370  \n Mean   :0.3838   Mean   :0.3838   Mean   :0.3838      Mean   :0.3838  \n 3rd Qu.:0.4728   3rd Qu.:0.7420   3rd Qu.:0.2999      3rd Qu.:0.3896  \n Max.   :0.6296   Max.   :0.7420   Max.   :0.7576      Max.   :1.0000  \n                                                                       "
          },
          "metadata": {}
        }
      ]
    },
    {
      "metadata": {
        "trusted": true,
        "_uuid": "b6a2d960c3f7f8077477ea5c77b7b28fed2cb823"
      },
      "cell_type": "code",
      "source": "",
      "execution_count": null,
      "outputs": []
    },
    {
      "metadata": {
        "trusted": true,
        "_uuid": "9d0d9d9a9da67b791987010df563c25905750cc0"
      },
      "cell_type": "code",
      "source": "table(df_train$Ticket)",
      "execution_count": 101,
      "outputs": [
        {
          "output_type": "display_data",
          "data": {
            "text/plain": "\n            110152             110413             110465             110564 \n                 3                  3                  2                  1 \n            110813             111240             111320             111361 \n                 1                  1                  1                  2 \n            111369             111426             111427             111428 \n                 1                  1                  1                  1 \n            112050             112052             112053             112058 \n                 1                  1                  1                  1 \n            112059             112277             112379             113028 \n                 1                  1                  1                  1 \n            113043             113050             113051             113055 \n                 1                  1                  1                  1 \n            113056             113059             113501             113503 \n                 1                  1                  1                  1 \n            113505             113509             113510             113514 \n                 2                  1                  1                  1 \n            113572             113760             113767             113773 \n                 2                  4                  1                  1 \n            113776             113781             113783             113784 \n                 2                  4                  1                  1 \n            113786             113787             113788             113789 \n                 1                  1                  1                  2 \n            113792             113794             113796             113798 \n                 1                  1                  1                  2 \n            113800             113803             113804             113806 \n                 1                  2                  1                  2 \n            113807              11668              11751              11752 \n                 1                  2                  2                  1 \n             11753              11755              11765              11767 \n                 1                  1                  1                  2 \n             11769              11771              11774              11813 \n                 1                  1                  1                  1 \n             11967              12233              12460              12749 \n                 2                  1                  1                  2 \n             13049              13213              13214              13502 \n                 1                  1                  1                  3 \n             13507              13509              13567              13568 \n                 2                  1                  1                  1 \n             14311              14312              14313              14973 \n                 1                  1                  1                  1 \n              1601              16966              16988              17421 \n                 7                  2                  1                  4 \n             17453              17463              17464              17465 \n                 2                  1                  1                  1 \n             17466              17474              17764              19877 \n                 1                  2                  1                  2 \n             19928              19943              19947              19950 \n                 2                  2                  1                  4 \n             19952              19972              19988              19996 \n                 1                  1                  1                  2 \n              2003             211536              21440             218629 \n                 1                  1                  1                  1 \n            219533             220367             220845               2223 \n                 1                  1                  2                  1 \n            223596             226593             226875             228414 \n                 1                  1                  1                  1 \n            229236             230080             230136             230433 \n                 1                  3                  2                  2 \n            230434             231919             231945             233639 \n                 1                  2                  1                  1 \n            233866             234360             234604             234686 \n                 1                  1                  1                  1 \n            234818             236171             236852             236853 \n                 1                  1                  1                  1 \n            237442             237565             237668             237671 \n                 1                  1                  1                  1 \n            237736             237789             237798             239853 \n                 2                  1                  1                  3 \n            239854             239855             239856             239865 \n                 1                  1                  1                  2 \n            240929              24160             243847             243880 \n                 1                  3                  2                  1 \n            244252             244270             244278             244310 \n                 2                  1                  1                  1 \n            244358             244361             244367             244373 \n                 1                  1                  2                  1 \n            248698             248706             248723             248727 \n                 1                  1                  1                  3 \n            248731             248733             248738             248740 \n                 1                  1                  2                  1 \n            248747             250643             250644             250646 \n                 1                  1                  2                  1 \n            250647             250648             250649             250651 \n                 2                  1                  2                  1 \n            250652             250653             250655               2620 \n                 1                  1                  2                  1 \n              2623               2624               2625               2626 \n                 1                  1                  1                  1 \n              2627               2628               2629               2631 \n                 2                  1                  1                  1 \n             26360               2641               2647               2648 \n                 2                  1                  1                  1 \n              2649               2650               2651               2653 \n                 1                  1                  2                  2 \n              2659               2661               2662               2663 \n                 2                  2                  1                  1 \n              2664               2665               2666               2667 \n                 1                  2                  4                  1 \n              2668               2669              26707               2671 \n                 2                  1                  1                  1 \n              2672               2674               2677               2678 \n                 1                  1                  1                  2 \n              2680               2683               2685               2686 \n                 1                  1                  1                  1 \n              2687               2689               2690               2691 \n                 1                  1                  1                  2 \n              2693               2694               2695               2697 \n                 1                  1                  1                  1 \n              2699               2700              27042              27267 \n                 2                  1                  1                  1 \n             27849              28134              28206              28213 \n                 1                  1                  1                  1 \n             28220              28228              28403              28424 \n                 1                  1                  2                  1 \n             28425              28551              28664              28665 \n                 1                  1                  1                  1 \n             29011               2908              29103              29104 \n                 1                  2                  1                  1 \n             29105              29106              29108               2926 \n                 1                  3                  1                  1 \n             29750              29751            3101264            3101265 \n                 2                  1                  1                  1 \n           3101267            3101276            3101277            3101278 \n                 1                  1                  1                  2 \n           3101281            3101295            3101296            3101298 \n                 1                  6                  1                  1 \n             31027              31028             312991             312992 \n                 2                  1                  1                  1 \n            312993              31418             315037             315082 \n                 1                  1                  1                  1 \n            315084             315086             315088             315089 \n                 1                  1                  1                  1 \n            315090             315093             315094             315096 \n                 1                  1                  1                  1 \n            315097             315098             315151             315153 \n                 1                  1                  1                  1 \n            323592             323951             324669             330877 \n                 1                  1                  1                  1 \n            330909             330919             330923             330931 \n                 1                  1                  1                  1 \n            330932             330935             330958             330959 \n                 1                  1                  1                  1 \n            330979             330980             334912             335097 \n                 1                  1                  1                  1 \n            335677              33638             336439               3411 \n                 1                  1                  1                  1 \n            341826              34218             342826             343095 \n                 1                  1                  1                  1 \n            343120             343275             343276             345364 \n                 1                  1                  1                  1 \n            345572             345763             345764             345765 \n                 1                  1                  2                  1 \n            345767             345769             345770             345773 \n                 1                  1                  1                  3 \n            345774             345777             345778             345779 \n                 1                  1                  1                  1 \n            345780             345781             345783               3460 \n                 1                  1                  1                  1 \n            347054             347060             347061             347062 \n                 2                  1                  1                  1 \n            347063             347064             347067             347068 \n                 1                  1                  1                  1 \n            347069             347071             347073             347074 \n                 1                  1                  1                  1 \n            347076             347077             347078             347080 \n                 1                  4                  1                  2 \n            347081             347082             347083             347085 \n                 1                  7                  1                  1 \n            347087             347088             347089               3474 \n                 1                  6                  1                  1 \n            347464             347466             347468             347470 \n                 1                  1                  1                  1 \n            347742             347743             348121             348123 \n                 3                  1                  1                  1 \n            348124             349201             349203             349204 \n                 1                  1                  1                  1 \n            349205             349206             349207             349208 \n                 1                  1                  1                  1 \n            349209             349210             349212             349213 \n                 1                  1                  1                  1 \n            349214             349215             349216             349217 \n                 1                  1                  1                  1 \n            349218             349219             349221             349222 \n                 1                  1                  1                  1 \n            349223             349224             349225             349227 \n                 1                  1                  1                  1 \n            349228             349231             349233             349234 \n                 1                  1                  1                  1 \n            349236             349237             349239             349240 \n                 1                  2                  1                  1 \n            349241             349242             349243             349244 \n                 1                  1                  1                  1 \n            349245             349246             349247             349248 \n                 1                  1                  1                  1 \n            349249             349251             349252             349253 \n                 1                  1                  1                  1 \n            349254             349256             349257             349909 \n                 1                  1                  1                  4 \n            349910             349912             350025             350026 \n                 1                  1                  1                  1 \n            350029             350034             350035             350036 \n                 1                  1                  1                  1 \n            350042             350043             350046             350047 \n                 1                  1                  1                  1 \n            350048             350050             350052             350060 \n                 1                  1                  1                  1 \n            350404             350406             350407             350417 \n                 1                  1                  1                  1 \n             35273              35281              35851              35852 \n                 3                  2                  1                  1 \n            358585              36209             362316             363291 \n                 2                  1                  1                  3 \n            363294             363592             364498             364499 \n                 1                  1                  1                  1 \n            364500             364506             364511             364512 \n                 1                  1                  1                  1 \n            364516             364846             364848             364849 \n                 2                  1                  1                  2 \n            364850             364851             365222             365226 \n                 1                  1                  1                  1 \n             36568             367226             367228             367229 \n                 1                  2                  1                  1 \n            367230             367231             367232             367655 \n                 2                  1                  1                  1 \n            368323              36864              36865              36866 \n                 1                  1                  1                  1 \n            368703              36928              36947              36963 \n                 1                  2                  2                  1 \n             36967              36973             370129             370365 \n                 1                  2                  2                  2 \n            370369             370370             370371             370372 \n                 1                  1                  1                  1 \n            370373             370375             370376             370377 \n                 1                  1                  1                  1 \n            371060             371110             371362             372622 \n                 1                  3                  1                  1 \n            373450             374746             374887             374910 \n                 1                  1                  1                  1 \n            376564             376566             382649             382651 \n                 2                  1                  1                  1 \n            382652             383121             384461             386525 \n                 5                  1                  1                  1 \n            392091             392092             392096             394140 \n                 1                  1                  2                  1 \n              4133               4134               4135               4136 \n                 4                  1                  1                  1 \n              4137               4138               4579              54636 \n                 1                  1                  1                  2 \n              5727              65303              65304              65306 \n                 1                  1                  1                  1 \n              6563                693                695               7267 \n                 1                  1                  1                  1 \n              7534               7540               7545               7546 \n                 2                  1                  1                  1 \n              7552               7553               7598               8471 \n                 1                  1                  1                  1 \n              8475               9234         A./5. 2152         A./5. 3235 \n                 1                  1                  1                  1 \n        A.5. 11206         A.5. 18509          A/4 45380          A/4 48871 \n                 1                  1                  1                  2 \n        A/4. 20589         A/4. 34244         A/4. 39886          A/5 21171 \n                 1                  1                  1                  1 \n         A/5 21172          A/5 21173          A/5 21174           A/5 2466 \n                 1                  1                  1                  1 \n          A/5 2817           A/5 3536           A/5 3540           A/5 3594 \n                 1                  1                  1                  1 \n          A/5 3902         A/5. 10482         A/5. 13032          A/5. 2151 \n                 1                  1                  1                  1 \n         A/5. 3336          A/5. 3337           A/5. 851           A/S 2816 \n                 2                  1                  1                  1 \n         A4. 54510            C 17369             C 4001             C 7075 \n                 1                  1                  1                  1 \n            C 7076             C 7077         C.A. 17248         C.A. 18723 \n                 1                  1                  1                  1 \n         C.A. 2315         C.A. 24579         C.A. 24580          C.A. 2673 \n                 2                  1                  1                  2 \n        C.A. 29178         C.A. 29395         C.A. 29566         C.A. 31026 \n                 1                  1                  1                  1 \n        C.A. 31921         C.A. 33111         C.A. 33112         C.A. 33595 \n                 3                  1                  2                  1 \n        C.A. 34260         C.A. 34651         C.A. 37671          C.A. 5547 \n                 1                  3                  2                  1 \n         C.A. 6212   C.A./SOTON 34068            CA 2144           CA. 2314 \n                 1                  1                  6                  1 \n          CA. 2343         F.C. 12750       F.C.C. 13528       F.C.C. 13529 \n                 7                  1                  1                  3 \n      F.C.C. 13531          Fa 265302               LINE          P/PP 3381 \n                 1                  1                  4                  2 \n          PC 17318           PC 17473           PC 17474           PC 17475 \n                 1                  1                  1                  1 \n          PC 17476           PC 17477           PC 17482           PC 17483 \n                 1                  2                  1                  1 \n          PC 17485           PC 17558           PC 17569           PC 17572 \n                 2                  2                  2                  3 \n          PC 17582           PC 17585           PC 17590           PC 17592 \n                 3                  1                  1                  1 \n          PC 17593           PC 17595           PC 17596           PC 17597 \n                 2                  1                  1                  1 \n          PC 17599           PC 17600           PC 17601           PC 17603 \n                 1                  1                  1                  1 \n          PC 17604           PC 17605           PC 17608           PC 17609 \n                 2                  1                  2                  1 \n          PC 17610           PC 17611           PC 17612           PC 17754 \n                 1                  2                  1                  1 \n          PC 17755           PC 17756           PC 17757           PC 17758 \n                 3                  1                  4                  2 \n          PC 17759           PC 17760           PC 17761            PP 4348 \n                 1                  3                  2                  1 \n           PP 9549    S.C./A.4. 23567    S.C./PARIS 2079        S.O./P.P. 3 \n                 2                  1                  2                  2 \n     S.O./P.P. 751       S.O.C. 14879        S.O.P. 1166          S.P. 3464 \n                 1                  5                  1                  1 \n       S.W./PP 752            SC 1748        SC/AH 29037         SC/AH 3085 \n                 1                  1                  1                  1 \n   SC/AH Basle 541      SC/Paris 2123      SC/PARIS 2131      SC/PARIS 2133 \n                 1                  3                  1                  1 \n     SC/PARIS 2146      SC/PARIS 2149      SC/Paris 2163      SC/PARIS 2167 \n                 1                  1                  1                  1 \n        SCO/W 1585         SO/C 14885 SOTON/O.Q. 3101305 SOTON/O.Q. 3101306 \n                 1                  1                  1                  1 \nSOTON/O.Q. 3101307 SOTON/O.Q. 3101310 SOTON/O.Q. 3101311 SOTON/O.Q. 3101312 \n                 1                  1                  1                  1 \n SOTON/O.Q. 392078  SOTON/O.Q. 392087   SOTON/O2 3101272   SOTON/O2 3101287 \n                 1                  1                  1                  1 \n  SOTON/OQ 3101316   SOTON/OQ 3101317    SOTON/OQ 392076    SOTON/OQ 392082 \n                 1                  1                  1                  1 \n   SOTON/OQ 392086    SOTON/OQ 392089    SOTON/OQ 392090  STON/O 2. 3101269 \n                 1                  1                  1                  1 \n STON/O 2. 3101273  STON/O 2. 3101274  STON/O 2. 3101275  STON/O 2. 3101280 \n                 1                  1                  1                  1 \n STON/O 2. 3101285  STON/O 2. 3101286  STON/O 2. 3101288  STON/O 2. 3101289 \n                 1                  1                  1                  1 \n STON/O 2. 3101292  STON/O 2. 3101293  STON/O 2. 3101294   STON/O2. 3101271 \n                 1                  1                  1                  1 \n  STON/O2. 3101279   STON/O2. 3101282   STON/O2. 3101283   STON/O2. 3101290 \n                 2                  1                  1                  1 \n         SW/PP 751        W./C. 14258        W./C. 14263         W./C. 6607 \n                 1                  1                  1                  2 \n        W./C. 6608         W./C. 6609        W.E.P. 5734          W/C 14208 \n                 4                  1                  1                  1 \n         WE/P 5735 \n                 2 "
          },
          "metadata": {}
        }
      ]
    },
    {
      "metadata": {
        "_uuid": "49b4d7a71ccf3404f57e83fd0cd1d259632d4c68",
        "trusted": true,
        "_cell_guid": "cb4a1926-f9f5-4c7e-95b8-1a24aec63003"
      },
      "cell_type": "code",
      "source": "train_names <- df_train %>% \n    select_(\"PassengerId\", \"Name\") %>% \n    unnest_tokens(name, Name) %>% \n    group_by(PassengerId, name) %>% \n    summarize(n = n()) %>% \n    bind_tf_idf(name, PassengerId, n) %>% \n    cast_sparse(PassengerId, name, n)\n",
      "execution_count": 134,
      "outputs": []
    },
    {
      "metadata": {
        "_uuid": "b531220ec22c55d76f15eb94249dde49e59ed2eb",
        "trusted": true,
        "_cell_guid": "495e0581-5a61-426a-8c64-8bb3919675a9"
      },
      "cell_type": "code",
      "source": "# text_lm_fit <- glmnet(train_names, factor(train$Survived), family = \"binomial\", alpha = 0)\n\ntext_lm_fit <- train(train_names, factor(df_train$Survived, label=c(\"N\", \"Y\")), method = \"glmnet\", \n                     trControl = trainControl(method = \"cv\", number = 5, returnData = FALSE, \n                                              savePredictions = \"final\", classProbs = TRUE), \n                     tuneGrid = expand.grid(alpha = 0, lambda = seq(0, 0.2, by = 0.001)))",
      "execution_count": 124,
      "outputs": []
    },
    {
      "metadata": {
        "trusted": true,
        "_uuid": "1f58f8b646d21dc280cb2381e696022eb6842af0"
      },
      "cell_type": "code",
      "source": "",
      "execution_count": 113,
      "outputs": [
        {
          "output_type": "display_data",
          "data": {
            "text/plain": "[1] \"Sandstrom, Miss. Marguerite Rut\"                         \n[2] \"Glynn, Miss. Mary Agatha\"                                \n[3] \"Turpin, Mrs. William John Robert (Dorothy Ann Wonnacott)\"",
            "text/latex": "\\begin{enumerate*}\n\\item 'Sandstrom, Miss. Marguerite Rut'\n\\item 'Glynn, Miss. Mary Agatha'\n\\item 'Turpin, Mrs. William John Robert (Dorothy Ann Wonnacott)'\n\\end{enumerate*}\n",
            "text/markdown": "1. 'Sandstrom, Miss. Marguerite Rut'\n2. 'Glynn, Miss. Mary Agatha'\n3. 'Turpin, Mrs. William John Robert (Dorothy Ann Wonnacott)'\n\n\n",
            "text/html": "<ol class=list-inline>\n\t<li>'Sandstrom, Miss. Marguerite Rut'</li>\n\t<li>'Glynn, Miss. Mary Agatha'</li>\n\t<li>'Turpin, Mrs. William John Robert (Dorothy Ann Wonnacott)'</li>\n</ol>\n"
          },
          "metadata": {}
        }
      ]
    },
    {
      "metadata": {
        "trusted": true,
        "_uuid": "405d7a396ff431917be1e3abc0cc7d9ce649f2cb"
      },
      "cell_type": "code",
      "source": "seq(0, 0.5, by = 0.01)\ntext_lm_fit$pred",
      "execution_count": 122,
      "outputs": [
        {
          "output_type": "display_data",
          "data": {
            "text/plain": " [1] 0.00 0.01 0.02 0.03 0.04 0.05 0.06 0.07 0.08 0.09 0.10 0.11 0.12 0.13 0.14\n[16] 0.15 0.16 0.17 0.18 0.19 0.20 0.21 0.22 0.23 0.24 0.25 0.26 0.27 0.28 0.29\n[31] 0.30 0.31 0.32 0.33 0.34 0.35 0.36 0.37 0.38 0.39 0.40 0.41 0.42 0.43 0.44\n[46] 0.45 0.46 0.47 0.48 0.49 0.50",
            "text/latex": "\\begin{enumerate*}\n\\item 0\n\\item 0.01\n\\item 0.02\n\\item 0.03\n\\item 0.04\n\\item 0.05\n\\item 0.06\n\\item 0.07\n\\item 0.08\n\\item 0.09\n\\item 0.1\n\\item 0.11\n\\item 0.12\n\\item 0.13\n\\item 0.14\n\\item 0.15\n\\item 0.16\n\\item 0.17\n\\item 0.18\n\\item 0.19\n\\item 0.2\n\\item 0.21\n\\item 0.22\n\\item 0.23\n\\item 0.24\n\\item 0.25\n\\item 0.26\n\\item 0.27\n\\item 0.28\n\\item 0.29\n\\item 0.3\n\\item 0.31\n\\item 0.32\n\\item 0.33\n\\item 0.34\n\\item 0.35\n\\item 0.36\n\\item 0.37\n\\item 0.38\n\\item 0.39\n\\item 0.4\n\\item 0.41\n\\item 0.42\n\\item 0.43\n\\item 0.44\n\\item 0.45\n\\item 0.46\n\\item 0.47\n\\item 0.48\n\\item 0.49\n\\item 0.5\n\\end{enumerate*}\n",
            "text/markdown": "1. 0\n2. 0.01\n3. 0.02\n4. 0.03\n5. 0.04\n6. 0.05\n7. 0.06\n8. 0.07\n9. 0.08\n10. 0.09\n11. 0.1\n12. 0.11\n13. 0.12\n14. 0.13\n15. 0.14\n16. 0.15\n17. 0.16\n18. 0.17\n19. 0.18\n20. 0.19\n21. 0.2\n22. 0.21\n23. 0.22\n24. 0.23\n25. 0.24\n26. 0.25\n27. 0.26\n28. 0.27\n29. 0.28\n30. 0.29\n31. 0.3\n32. 0.31\n33. 0.32\n34. 0.33\n35. 0.34\n36. 0.35\n37. 0.36\n38. 0.37\n39. 0.38\n40. 0.39\n41. 0.4\n42. 0.41\n43. 0.42\n44. 0.43\n45. 0.44\n46. 0.45\n47. 0.46\n48. 0.47\n49. 0.48\n50. 0.49\n51. 0.5\n\n\n",
            "text/html": "<ol class=list-inline>\n\t<li>0</li>\n\t<li>0.01</li>\n\t<li>0.02</li>\n\t<li>0.03</li>\n\t<li>0.04</li>\n\t<li>0.05</li>\n\t<li>0.06</li>\n\t<li>0.07</li>\n\t<li>0.08</li>\n\t<li>0.09</li>\n\t<li>0.1</li>\n\t<li>0.11</li>\n\t<li>0.12</li>\n\t<li>0.13</li>\n\t<li>0.14</li>\n\t<li>0.15</li>\n\t<li>0.16</li>\n\t<li>0.17</li>\n\t<li>0.18</li>\n\t<li>0.19</li>\n\t<li>0.2</li>\n\t<li>0.21</li>\n\t<li>0.22</li>\n\t<li>0.23</li>\n\t<li>0.24</li>\n\t<li>0.25</li>\n\t<li>0.26</li>\n\t<li>0.27</li>\n\t<li>0.28</li>\n\t<li>0.29</li>\n\t<li>0.3</li>\n\t<li>0.31</li>\n\t<li>0.32</li>\n\t<li>0.33</li>\n\t<li>0.34</li>\n\t<li>0.35</li>\n\t<li>0.36</li>\n\t<li>0.37</li>\n\t<li>0.38</li>\n\t<li>0.39</li>\n\t<li>0.4</li>\n\t<li>0.41</li>\n\t<li>0.42</li>\n\t<li>0.43</li>\n\t<li>0.44</li>\n\t<li>0.45</li>\n\t<li>0.46</li>\n\t<li>0.47</li>\n\t<li>0.48</li>\n\t<li>0.49</li>\n\t<li>0.5</li>\n</ol>\n"
          },
          "metadata": {}
        },
        {
          "output_type": "display_data",
          "data": {
            "text/plain": "    alpha lambda pred obs rowIndex N         Y          Resample\n1   1     0.018  N    Y   858      0.7155298 0.2844702  Fold5   \n2   1     0.018  N    N    72      0.7452514 0.2547486  Fold2   \n3   1     0.018  N    N   842      0.8711009 0.1288991  Fold5   \n4   1     0.018  Y    Y   843      0.2182641 0.7817359  Fold5   \n5   1     0.018  N    N   869      0.8740628 0.1259372  Fold5   \n6   1     0.018  Y    Y    23      0.2044801 0.7955199  Fold4   \n7   1     0.018  N    N   884      0.8711009 0.1288991  Fold5   \n8   1     0.018  N    N   885      0.8711009 0.1288991  Fold5   \n9   1     0.018  Y    Y   888      0.2182641 0.7817359  Fold5   \n10  1     0.018  Y    Y   880      0.1966898 0.8033102  Fold5   \n11  1     0.018  Y    Y   831      0.1985483 0.8014517  Fold5   \n12  1     0.018  N    N   833      0.8711009 0.1288991  Fold5   \n13  1     0.018  Y    Y    67      0.1797037 0.8202963  Fold2   \n14  1     0.018  N    N    65      0.8811592 0.1188408  Fold2   \n15  1     0.018  N    N   139      0.8866526 0.1133474  Fold2   \n16  1     0.018  Y    Y    26      0.1391728 0.8608272  Fold4   \n17  1     0.018  N    N   860      0.8711009 0.1288991  Fold5   \n18  1     0.018  Y    Y   797      0.3745294 0.6254706  Fold5   \n19  1     0.018  N    N   801      0.8711009 0.1288991  Fold5   \n20  1     0.018  N    Y   805      0.8711009 0.1288991  Fold5   \n21  1     0.018  Y    N   808      0.2182641 0.7817359  Fold5   \n22  1     0.018  N    N   812      0.8711009 0.1288991  Fold5   \n23  1     0.018  N    N   816      0.8711009 0.1288991  Fold5   \n24  1     0.018  N    N   826      0.8711009 0.1288991  Fold5   \n25  1     0.018  Y    Y    57      0.2119822 0.7880178  Fold2   \n26  1     0.018  N    N    61      0.8866526 0.1133474  Fold2   \n27  1     0.018  N    N   243      0.8866526 0.1133474  Fold2   \n28  1     0.018  Y    N   246      0.2119822 0.7880178  Fold2   \n29  1     0.018  N    Y   249      0.8866526 0.1133474  Fold2   \n30  1     0.018  Y    N   255      0.1797037 0.8202963  Fold2   \n⋮   ⋮     ⋮      ⋮    ⋮   ⋮        ⋮         ⋮          ⋮       \n862 1     0.018  N    N   327      0.9058163 0.09418365 Fold3   \n863 1     0.018  Y    Y   328      0.1670030 0.83299696 Fold3   \n864 1     0.018  N    N   334      0.9645784 0.03542155 Fold3   \n865 1     0.018  N    N   340      0.8781834 0.12181660 Fold3   \n866 1     0.018  Y    Y   341      0.2659765 0.73402352 Fold3   \n867 1     0.018  N    N   354      0.8781834 0.12181660 Fold3   \n868 1     0.018  N    N   356      0.8781834 0.12181660 Fold3   \n869 1     0.018  Y    Y   357      0.2388508 0.76114920 Fold3   \n870 1     0.018  Y    N   358      0.2140282 0.78597183 Fold3   \n871 1     0.018  N    N   362      0.8781834 0.12181660 Fold3   \n872 1     0.018  N    N   364      0.8781834 0.12181660 Fold3   \n873 1     0.018  Y    Y   370      0.2659765 0.73402352 Fold3   \n874 1     0.018  Y    Y   384      0.1670030 0.83299696 Fold3   \n875 1     0.018  N    N   385      0.8781834 0.12181660 Fold3   \n876 1     0.018  N    N   389      0.8781834 0.12181660 Fold3   \n877 1     0.018  N    Y   392      0.8781834 0.12181660 Fold3   \n878 1     0.018  Y    Y   395      0.4090703 0.59092974 Fold3   \n879 1     0.018  N    Y   401      0.8781834 0.12181660 Fold3   \n880 1     0.018  N    N   404      0.8781834 0.12181660 Fold3   \n881 1     0.018  N    N   407      0.8781834 0.12181660 Fold3   \n882 1     0.018  N    N   409      0.8781834 0.12181660 Fold3   \n883 1     0.018  N    Y   415      0.5604224 0.43957758 Fold3   \n884 1     0.018  Y    N   416      0.1481934 0.85180656 Fold3   \n885 1     0.018  N    N   419      0.8781834 0.12181660 Fold3   \n886 1     0.018  N    N   423      0.8781834 0.12181660 Fold3   \n887 1     0.018  Y    Y   428      0.1479369 0.85206315 Fold3   \n888 1     0.018  N    N   437      0.6500642 0.34993582 Fold3   \n889 1     0.018  N    N   440      0.9058163 0.09418365 Fold3   \n890 1     0.018  N    N   442      0.8781834 0.12181660 Fold3   \n891 1     0.018  Y    Y   449      0.2458700 0.75413004 Fold3   ",
            "text/latex": "\\begin{tabular}{r|llllllll}\n alpha & lambda & pred & obs & rowIndex & N & Y & Resample\\\\\n\\hline\n\t 1         & 0.018     & N         & Y         & 858       & 0.7155298 & 0.2844702 & Fold5    \\\\\n\t 1         & 0.018     & N         & N         &  72       & 0.7452514 & 0.2547486 & Fold2    \\\\\n\t 1         & 0.018     & N         & N         & 842       & 0.8711009 & 0.1288991 & Fold5    \\\\\n\t 1         & 0.018     & Y         & Y         & 843       & 0.2182641 & 0.7817359 & Fold5    \\\\\n\t 1         & 0.018     & N         & N         & 869       & 0.8740628 & 0.1259372 & Fold5    \\\\\n\t 1         & 0.018     & Y         & Y         &  23       & 0.2044801 & 0.7955199 & Fold4    \\\\\n\t 1         & 0.018     & N         & N         & 884       & 0.8711009 & 0.1288991 & Fold5    \\\\\n\t 1         & 0.018     & N         & N         & 885       & 0.8711009 & 0.1288991 & Fold5    \\\\\n\t 1         & 0.018     & Y         & Y         & 888       & 0.2182641 & 0.7817359 & Fold5    \\\\\n\t 1         & 0.018     & Y         & Y         & 880       & 0.1966898 & 0.8033102 & Fold5    \\\\\n\t 1         & 0.018     & Y         & Y         & 831       & 0.1985483 & 0.8014517 & Fold5    \\\\\n\t 1         & 0.018     & N         & N         & 833       & 0.8711009 & 0.1288991 & Fold5    \\\\\n\t 1         & 0.018     & Y         & Y         &  67       & 0.1797037 & 0.8202963 & Fold2    \\\\\n\t 1         & 0.018     & N         & N         &  65       & 0.8811592 & 0.1188408 & Fold2    \\\\\n\t 1         & 0.018     & N         & N         & 139       & 0.8866526 & 0.1133474 & Fold2    \\\\\n\t 1         & 0.018     & Y         & Y         &  26       & 0.1391728 & 0.8608272 & Fold4    \\\\\n\t 1         & 0.018     & N         & N         & 860       & 0.8711009 & 0.1288991 & Fold5    \\\\\n\t 1         & 0.018     & Y         & Y         & 797       & 0.3745294 & 0.6254706 & Fold5    \\\\\n\t 1         & 0.018     & N         & N         & 801       & 0.8711009 & 0.1288991 & Fold5    \\\\\n\t 1         & 0.018     & N         & Y         & 805       & 0.8711009 & 0.1288991 & Fold5    \\\\\n\t 1         & 0.018     & Y         & N         & 808       & 0.2182641 & 0.7817359 & Fold5    \\\\\n\t 1         & 0.018     & N         & N         & 812       & 0.8711009 & 0.1288991 & Fold5    \\\\\n\t 1         & 0.018     & N         & N         & 816       & 0.8711009 & 0.1288991 & Fold5    \\\\\n\t 1         & 0.018     & N         & N         & 826       & 0.8711009 & 0.1288991 & Fold5    \\\\\n\t 1         & 0.018     & Y         & Y         &  57       & 0.2119822 & 0.7880178 & Fold2    \\\\\n\t 1         & 0.018     & N         & N         &  61       & 0.8866526 & 0.1133474 & Fold2    \\\\\n\t 1         & 0.018     & N         & N         & 243       & 0.8866526 & 0.1133474 & Fold2    \\\\\n\t 1         & 0.018     & Y         & N         & 246       & 0.2119822 & 0.7880178 & Fold2    \\\\\n\t 1         & 0.018     & N         & Y         & 249       & 0.8866526 & 0.1133474 & Fold2    \\\\\n\t 1         & 0.018     & Y         & N         & 255       & 0.1797037 & 0.8202963 & Fold2    \\\\\n\t ⋮ & ⋮ & ⋮ & ⋮ & ⋮ & ⋮ & ⋮ & ⋮\\\\\n\t 1          & 0.018      & N          & N          & 327        & 0.9058163  & 0.09418365 & Fold3     \\\\\n\t 1          & 0.018      & Y          & Y          & 328        & 0.1670030  & 0.83299696 & Fold3     \\\\\n\t 1          & 0.018      & N          & N          & 334        & 0.9645784  & 0.03542155 & Fold3     \\\\\n\t 1          & 0.018      & N          & N          & 340        & 0.8781834  & 0.12181660 & Fold3     \\\\\n\t 1          & 0.018      & Y          & Y          & 341        & 0.2659765  & 0.73402352 & Fold3     \\\\\n\t 1          & 0.018      & N          & N          & 354        & 0.8781834  & 0.12181660 & Fold3     \\\\\n\t 1          & 0.018      & N          & N          & 356        & 0.8781834  & 0.12181660 & Fold3     \\\\\n\t 1          & 0.018      & Y          & Y          & 357        & 0.2388508  & 0.76114920 & Fold3     \\\\\n\t 1          & 0.018      & Y          & N          & 358        & 0.2140282  & 0.78597183 & Fold3     \\\\\n\t 1          & 0.018      & N          & N          & 362        & 0.8781834  & 0.12181660 & Fold3     \\\\\n\t 1          & 0.018      & N          & N          & 364        & 0.8781834  & 0.12181660 & Fold3     \\\\\n\t 1          & 0.018      & Y          & Y          & 370        & 0.2659765  & 0.73402352 & Fold3     \\\\\n\t 1          & 0.018      & Y          & Y          & 384        & 0.1670030  & 0.83299696 & Fold3     \\\\\n\t 1          & 0.018      & N          & N          & 385        & 0.8781834  & 0.12181660 & Fold3     \\\\\n\t 1          & 0.018      & N          & N          & 389        & 0.8781834  & 0.12181660 & Fold3     \\\\\n\t 1          & 0.018      & N          & Y          & 392        & 0.8781834  & 0.12181660 & Fold3     \\\\\n\t 1          & 0.018      & Y          & Y          & 395        & 0.4090703  & 0.59092974 & Fold3     \\\\\n\t 1          & 0.018      & N          & Y          & 401        & 0.8781834  & 0.12181660 & Fold3     \\\\\n\t 1          & 0.018      & N          & N          & 404        & 0.8781834  & 0.12181660 & Fold3     \\\\\n\t 1          & 0.018      & N          & N          & 407        & 0.8781834  & 0.12181660 & Fold3     \\\\\n\t 1          & 0.018      & N          & N          & 409        & 0.8781834  & 0.12181660 & Fold3     \\\\\n\t 1          & 0.018      & N          & Y          & 415        & 0.5604224  & 0.43957758 & Fold3     \\\\\n\t 1          & 0.018      & Y          & N          & 416        & 0.1481934  & 0.85180656 & Fold3     \\\\\n\t 1          & 0.018      & N          & N          & 419        & 0.8781834  & 0.12181660 & Fold3     \\\\\n\t 1          & 0.018      & N          & N          & 423        & 0.8781834  & 0.12181660 & Fold3     \\\\\n\t 1          & 0.018      & Y          & Y          & 428        & 0.1479369  & 0.85206315 & Fold3     \\\\\n\t 1          & 0.018      & N          & N          & 437        & 0.6500642  & 0.34993582 & Fold3     \\\\\n\t 1          & 0.018      & N          & N          & 440        & 0.9058163  & 0.09418365 & Fold3     \\\\\n\t 1          & 0.018      & N          & N          & 442        & 0.8781834  & 0.12181660 & Fold3     \\\\\n\t 1          & 0.018      & Y          & Y          & 449        & 0.2458700  & 0.75413004 & Fold3     \\\\\n\\end{tabular}\n",
            "text/markdown": "\nalpha | lambda | pred | obs | rowIndex | N | Y | Resample | \n|---|---|---|---|---|---|---|---|---|---|---|---|---|---|---|---|---|---|---|---|---|---|---|---|---|---|---|---|---|---|---|---|---|---|---|---|---|---|---|---|---|---|---|---|---|---|---|---|---|---|---|---|---|---|---|---|---|---|---|---|---|\n| 1         | 0.018     | N         | Y         | 858       | 0.7155298 | 0.2844702 | Fold5     | \n| 1         | 0.018     | N         | N         |  72       | 0.7452514 | 0.2547486 | Fold2     | \n| 1         | 0.018     | N         | N         | 842       | 0.8711009 | 0.1288991 | Fold5     | \n| 1         | 0.018     | Y         | Y         | 843       | 0.2182641 | 0.7817359 | Fold5     | \n| 1         | 0.018     | N         | N         | 869       | 0.8740628 | 0.1259372 | Fold5     | \n| 1         | 0.018     | Y         | Y         |  23       | 0.2044801 | 0.7955199 | Fold4     | \n| 1         | 0.018     | N         | N         | 884       | 0.8711009 | 0.1288991 | Fold5     | \n| 1         | 0.018     | N         | N         | 885       | 0.8711009 | 0.1288991 | Fold5     | \n| 1         | 0.018     | Y         | Y         | 888       | 0.2182641 | 0.7817359 | Fold5     | \n| 1         | 0.018     | Y         | Y         | 880       | 0.1966898 | 0.8033102 | Fold5     | \n| 1         | 0.018     | Y         | Y         | 831       | 0.1985483 | 0.8014517 | Fold5     | \n| 1         | 0.018     | N         | N         | 833       | 0.8711009 | 0.1288991 | Fold5     | \n| 1         | 0.018     | Y         | Y         |  67       | 0.1797037 | 0.8202963 | Fold2     | \n| 1         | 0.018     | N         | N         |  65       | 0.8811592 | 0.1188408 | Fold2     | \n| 1         | 0.018     | N         | N         | 139       | 0.8866526 | 0.1133474 | Fold2     | \n| 1         | 0.018     | Y         | Y         |  26       | 0.1391728 | 0.8608272 | Fold4     | \n| 1         | 0.018     | N         | N         | 860       | 0.8711009 | 0.1288991 | Fold5     | \n| 1         | 0.018     | Y         | Y         | 797       | 0.3745294 | 0.6254706 | Fold5     | \n| 1         | 0.018     | N         | N         | 801       | 0.8711009 | 0.1288991 | Fold5     | \n| 1         | 0.018     | N         | Y         | 805       | 0.8711009 | 0.1288991 | Fold5     | \n| 1         | 0.018     | Y         | N         | 808       | 0.2182641 | 0.7817359 | Fold5     | \n| 1         | 0.018     | N         | N         | 812       | 0.8711009 | 0.1288991 | Fold5     | \n| 1         | 0.018     | N         | N         | 816       | 0.8711009 | 0.1288991 | Fold5     | \n| 1         | 0.018     | N         | N         | 826       | 0.8711009 | 0.1288991 | Fold5     | \n| 1         | 0.018     | Y         | Y         |  57       | 0.2119822 | 0.7880178 | Fold2     | \n| 1         | 0.018     | N         | N         |  61       | 0.8866526 | 0.1133474 | Fold2     | \n| 1         | 0.018     | N         | N         | 243       | 0.8866526 | 0.1133474 | Fold2     | \n| 1         | 0.018     | Y         | N         | 246       | 0.2119822 | 0.7880178 | Fold2     | \n| 1         | 0.018     | N         | Y         | 249       | 0.8866526 | 0.1133474 | Fold2     | \n| 1         | 0.018     | Y         | N         | 255       | 0.1797037 | 0.8202963 | Fold2     | \n| ⋮ | ⋮ | ⋮ | ⋮ | ⋮ | ⋮ | ⋮ | ⋮ | \n| 1          | 0.018      | N          | N          | 327        | 0.9058163  | 0.09418365 | Fold3      | \n| 1          | 0.018      | Y          | Y          | 328        | 0.1670030  | 0.83299696 | Fold3      | \n| 1          | 0.018      | N          | N          | 334        | 0.9645784  | 0.03542155 | Fold3      | \n| 1          | 0.018      | N          | N          | 340        | 0.8781834  | 0.12181660 | Fold3      | \n| 1          | 0.018      | Y          | Y          | 341        | 0.2659765  | 0.73402352 | Fold3      | \n| 1          | 0.018      | N          | N          | 354        | 0.8781834  | 0.12181660 | Fold3      | \n| 1          | 0.018      | N          | N          | 356        | 0.8781834  | 0.12181660 | Fold3      | \n| 1          | 0.018      | Y          | Y          | 357        | 0.2388508  | 0.76114920 | Fold3      | \n| 1          | 0.018      | Y          | N          | 358        | 0.2140282  | 0.78597183 | Fold3      | \n| 1          | 0.018      | N          | N          | 362        | 0.8781834  | 0.12181660 | Fold3      | \n| 1          | 0.018      | N          | N          | 364        | 0.8781834  | 0.12181660 | Fold3      | \n| 1          | 0.018      | Y          | Y          | 370        | 0.2659765  | 0.73402352 | Fold3      | \n| 1          | 0.018      | Y          | Y          | 384        | 0.1670030  | 0.83299696 | Fold3      | \n| 1          | 0.018      | N          | N          | 385        | 0.8781834  | 0.12181660 | Fold3      | \n| 1          | 0.018      | N          | N          | 389        | 0.8781834  | 0.12181660 | Fold3      | \n| 1          | 0.018      | N          | Y          | 392        | 0.8781834  | 0.12181660 | Fold3      | \n| 1          | 0.018      | Y          | Y          | 395        | 0.4090703  | 0.59092974 | Fold3      | \n| 1          | 0.018      | N          | Y          | 401        | 0.8781834  | 0.12181660 | Fold3      | \n| 1          | 0.018      | N          | N          | 404        | 0.8781834  | 0.12181660 | Fold3      | \n| 1          | 0.018      | N          | N          | 407        | 0.8781834  | 0.12181660 | Fold3      | \n| 1          | 0.018      | N          | N          | 409        | 0.8781834  | 0.12181660 | Fold3      | \n| 1          | 0.018      | N          | Y          | 415        | 0.5604224  | 0.43957758 | Fold3      | \n| 1          | 0.018      | Y          | N          | 416        | 0.1481934  | 0.85180656 | Fold3      | \n| 1          | 0.018      | N          | N          | 419        | 0.8781834  | 0.12181660 | Fold3      | \n| 1          | 0.018      | N          | N          | 423        | 0.8781834  | 0.12181660 | Fold3      | \n| 1          | 0.018      | Y          | Y          | 428        | 0.1479369  | 0.85206315 | Fold3      | \n| 1          | 0.018      | N          | N          | 437        | 0.6500642  | 0.34993582 | Fold3      | \n| 1          | 0.018      | N          | N          | 440        | 0.9058163  | 0.09418365 | Fold3      | \n| 1          | 0.018      | N          | N          | 442        | 0.8781834  | 0.12181660 | Fold3      | \n| 1          | 0.018      | Y          | Y          | 449        | 0.2458700  | 0.75413004 | Fold3      | \n\n\n",
            "text/html": "<table>\n<thead><tr><th scope=col>alpha</th><th scope=col>lambda</th><th scope=col>pred</th><th scope=col>obs</th><th scope=col>rowIndex</th><th scope=col>N</th><th scope=col>Y</th><th scope=col>Resample</th></tr></thead>\n<tbody>\n\t<tr><td>1        </td><td>0.018    </td><td>N        </td><td>Y        </td><td>858      </td><td>0.7155298</td><td>0.2844702</td><td>Fold5    </td></tr>\n\t<tr><td>1        </td><td>0.018    </td><td>N        </td><td>N        </td><td> 72      </td><td>0.7452514</td><td>0.2547486</td><td>Fold2    </td></tr>\n\t<tr><td>1        </td><td>0.018    </td><td>N        </td><td>N        </td><td>842      </td><td>0.8711009</td><td>0.1288991</td><td>Fold5    </td></tr>\n\t<tr><td>1        </td><td>0.018    </td><td>Y        </td><td>Y        </td><td>843      </td><td>0.2182641</td><td>0.7817359</td><td>Fold5    </td></tr>\n\t<tr><td>1        </td><td>0.018    </td><td>N        </td><td>N        </td><td>869      </td><td>0.8740628</td><td>0.1259372</td><td>Fold5    </td></tr>\n\t<tr><td>1        </td><td>0.018    </td><td>Y        </td><td>Y        </td><td> 23      </td><td>0.2044801</td><td>0.7955199</td><td>Fold4    </td></tr>\n\t<tr><td>1        </td><td>0.018    </td><td>N        </td><td>N        </td><td>884      </td><td>0.8711009</td><td>0.1288991</td><td>Fold5    </td></tr>\n\t<tr><td>1        </td><td>0.018    </td><td>N        </td><td>N        </td><td>885      </td><td>0.8711009</td><td>0.1288991</td><td>Fold5    </td></tr>\n\t<tr><td>1        </td><td>0.018    </td><td>Y        </td><td>Y        </td><td>888      </td><td>0.2182641</td><td>0.7817359</td><td>Fold5    </td></tr>\n\t<tr><td>1        </td><td>0.018    </td><td>Y        </td><td>Y        </td><td>880      </td><td>0.1966898</td><td>0.8033102</td><td>Fold5    </td></tr>\n\t<tr><td>1        </td><td>0.018    </td><td>Y        </td><td>Y        </td><td>831      </td><td>0.1985483</td><td>0.8014517</td><td>Fold5    </td></tr>\n\t<tr><td>1        </td><td>0.018    </td><td>N        </td><td>N        </td><td>833      </td><td>0.8711009</td><td>0.1288991</td><td>Fold5    </td></tr>\n\t<tr><td>1        </td><td>0.018    </td><td>Y        </td><td>Y        </td><td> 67      </td><td>0.1797037</td><td>0.8202963</td><td>Fold2    </td></tr>\n\t<tr><td>1        </td><td>0.018    </td><td>N        </td><td>N        </td><td> 65      </td><td>0.8811592</td><td>0.1188408</td><td>Fold2    </td></tr>\n\t<tr><td>1        </td><td>0.018    </td><td>N        </td><td>N        </td><td>139      </td><td>0.8866526</td><td>0.1133474</td><td>Fold2    </td></tr>\n\t<tr><td>1        </td><td>0.018    </td><td>Y        </td><td>Y        </td><td> 26      </td><td>0.1391728</td><td>0.8608272</td><td>Fold4    </td></tr>\n\t<tr><td>1        </td><td>0.018    </td><td>N        </td><td>N        </td><td>860      </td><td>0.8711009</td><td>0.1288991</td><td>Fold5    </td></tr>\n\t<tr><td>1        </td><td>0.018    </td><td>Y        </td><td>Y        </td><td>797      </td><td>0.3745294</td><td>0.6254706</td><td>Fold5    </td></tr>\n\t<tr><td>1        </td><td>0.018    </td><td>N        </td><td>N        </td><td>801      </td><td>0.8711009</td><td>0.1288991</td><td>Fold5    </td></tr>\n\t<tr><td>1        </td><td>0.018    </td><td>N        </td><td>Y        </td><td>805      </td><td>0.8711009</td><td>0.1288991</td><td>Fold5    </td></tr>\n\t<tr><td>1        </td><td>0.018    </td><td>Y        </td><td>N        </td><td>808      </td><td>0.2182641</td><td>0.7817359</td><td>Fold5    </td></tr>\n\t<tr><td>1        </td><td>0.018    </td><td>N        </td><td>N        </td><td>812      </td><td>0.8711009</td><td>0.1288991</td><td>Fold5    </td></tr>\n\t<tr><td>1        </td><td>0.018    </td><td>N        </td><td>N        </td><td>816      </td><td>0.8711009</td><td>0.1288991</td><td>Fold5    </td></tr>\n\t<tr><td>1        </td><td>0.018    </td><td>N        </td><td>N        </td><td>826      </td><td>0.8711009</td><td>0.1288991</td><td>Fold5    </td></tr>\n\t<tr><td>1        </td><td>0.018    </td><td>Y        </td><td>Y        </td><td> 57      </td><td>0.2119822</td><td>0.7880178</td><td>Fold2    </td></tr>\n\t<tr><td>1        </td><td>0.018    </td><td>N        </td><td>N        </td><td> 61      </td><td>0.8866526</td><td>0.1133474</td><td>Fold2    </td></tr>\n\t<tr><td>1        </td><td>0.018    </td><td>N        </td><td>N        </td><td>243      </td><td>0.8866526</td><td>0.1133474</td><td>Fold2    </td></tr>\n\t<tr><td>1        </td><td>0.018    </td><td>Y        </td><td>N        </td><td>246      </td><td>0.2119822</td><td>0.7880178</td><td>Fold2    </td></tr>\n\t<tr><td>1        </td><td>0.018    </td><td>N        </td><td>Y        </td><td>249      </td><td>0.8866526</td><td>0.1133474</td><td>Fold2    </td></tr>\n\t<tr><td>1        </td><td>0.018    </td><td>Y        </td><td>N        </td><td>255      </td><td>0.1797037</td><td>0.8202963</td><td>Fold2    </td></tr>\n\t<tr><td>⋮</td><td>⋮</td><td>⋮</td><td>⋮</td><td>⋮</td><td>⋮</td><td>⋮</td><td>⋮</td></tr>\n\t<tr><td>1         </td><td>0.018     </td><td>N         </td><td>N         </td><td>327       </td><td>0.9058163 </td><td>0.09418365</td><td>Fold3     </td></tr>\n\t<tr><td>1         </td><td>0.018     </td><td>Y         </td><td>Y         </td><td>328       </td><td>0.1670030 </td><td>0.83299696</td><td>Fold3     </td></tr>\n\t<tr><td>1         </td><td>0.018     </td><td>N         </td><td>N         </td><td>334       </td><td>0.9645784 </td><td>0.03542155</td><td>Fold3     </td></tr>\n\t<tr><td>1         </td><td>0.018     </td><td>N         </td><td>N         </td><td>340       </td><td>0.8781834 </td><td>0.12181660</td><td>Fold3     </td></tr>\n\t<tr><td>1         </td><td>0.018     </td><td>Y         </td><td>Y         </td><td>341       </td><td>0.2659765 </td><td>0.73402352</td><td>Fold3     </td></tr>\n\t<tr><td>1         </td><td>0.018     </td><td>N         </td><td>N         </td><td>354       </td><td>0.8781834 </td><td>0.12181660</td><td>Fold3     </td></tr>\n\t<tr><td>1         </td><td>0.018     </td><td>N         </td><td>N         </td><td>356       </td><td>0.8781834 </td><td>0.12181660</td><td>Fold3     </td></tr>\n\t<tr><td>1         </td><td>0.018     </td><td>Y         </td><td>Y         </td><td>357       </td><td>0.2388508 </td><td>0.76114920</td><td>Fold3     </td></tr>\n\t<tr><td>1         </td><td>0.018     </td><td>Y         </td><td>N         </td><td>358       </td><td>0.2140282 </td><td>0.78597183</td><td>Fold3     </td></tr>\n\t<tr><td>1         </td><td>0.018     </td><td>N         </td><td>N         </td><td>362       </td><td>0.8781834 </td><td>0.12181660</td><td>Fold3     </td></tr>\n\t<tr><td>1         </td><td>0.018     </td><td>N         </td><td>N         </td><td>364       </td><td>0.8781834 </td><td>0.12181660</td><td>Fold3     </td></tr>\n\t<tr><td>1         </td><td>0.018     </td><td>Y         </td><td>Y         </td><td>370       </td><td>0.2659765 </td><td>0.73402352</td><td>Fold3     </td></tr>\n\t<tr><td>1         </td><td>0.018     </td><td>Y         </td><td>Y         </td><td>384       </td><td>0.1670030 </td><td>0.83299696</td><td>Fold3     </td></tr>\n\t<tr><td>1         </td><td>0.018     </td><td>N         </td><td>N         </td><td>385       </td><td>0.8781834 </td><td>0.12181660</td><td>Fold3     </td></tr>\n\t<tr><td>1         </td><td>0.018     </td><td>N         </td><td>N         </td><td>389       </td><td>0.8781834 </td><td>0.12181660</td><td>Fold3     </td></tr>\n\t<tr><td>1         </td><td>0.018     </td><td>N         </td><td>Y         </td><td>392       </td><td>0.8781834 </td><td>0.12181660</td><td>Fold3     </td></tr>\n\t<tr><td>1         </td><td>0.018     </td><td>Y         </td><td>Y         </td><td>395       </td><td>0.4090703 </td><td>0.59092974</td><td>Fold3     </td></tr>\n\t<tr><td>1         </td><td>0.018     </td><td>N         </td><td>Y         </td><td>401       </td><td>0.8781834 </td><td>0.12181660</td><td>Fold3     </td></tr>\n\t<tr><td>1         </td><td>0.018     </td><td>N         </td><td>N         </td><td>404       </td><td>0.8781834 </td><td>0.12181660</td><td>Fold3     </td></tr>\n\t<tr><td>1         </td><td>0.018     </td><td>N         </td><td>N         </td><td>407       </td><td>0.8781834 </td><td>0.12181660</td><td>Fold3     </td></tr>\n\t<tr><td>1         </td><td>0.018     </td><td>N         </td><td>N         </td><td>409       </td><td>0.8781834 </td><td>0.12181660</td><td>Fold3     </td></tr>\n\t<tr><td>1         </td><td>0.018     </td><td>N         </td><td>Y         </td><td>415       </td><td>0.5604224 </td><td>0.43957758</td><td>Fold3     </td></tr>\n\t<tr><td>1         </td><td>0.018     </td><td>Y         </td><td>N         </td><td>416       </td><td>0.1481934 </td><td>0.85180656</td><td>Fold3     </td></tr>\n\t<tr><td>1         </td><td>0.018     </td><td>N         </td><td>N         </td><td>419       </td><td>0.8781834 </td><td>0.12181660</td><td>Fold3     </td></tr>\n\t<tr><td>1         </td><td>0.018     </td><td>N         </td><td>N         </td><td>423       </td><td>0.8781834 </td><td>0.12181660</td><td>Fold3     </td></tr>\n\t<tr><td>1         </td><td>0.018     </td><td>Y         </td><td>Y         </td><td>428       </td><td>0.1479369 </td><td>0.85206315</td><td>Fold3     </td></tr>\n\t<tr><td>1         </td><td>0.018     </td><td>N         </td><td>N         </td><td>437       </td><td>0.6500642 </td><td>0.34993582</td><td>Fold3     </td></tr>\n\t<tr><td>1         </td><td>0.018     </td><td>N         </td><td>N         </td><td>440       </td><td>0.9058163 </td><td>0.09418365</td><td>Fold3     </td></tr>\n\t<tr><td>1         </td><td>0.018     </td><td>N         </td><td>N         </td><td>442       </td><td>0.8781834 </td><td>0.12181660</td><td>Fold3     </td></tr>\n\t<tr><td>1         </td><td>0.018     </td><td>Y         </td><td>Y         </td><td>449       </td><td>0.2458700 </td><td>0.75413004</td><td>Fold3     </td></tr>\n</tbody>\n</table>\n"
          },
          "metadata": {}
        }
      ]
    },
    {
      "metadata": {
        "trusted": true,
        "_uuid": "236aa1cac8a8916a0103e25bf292605e9c6baa29"
      },
      "cell_type": "code",
      "source": "",
      "execution_count": null,
      "outputs": []
    },
    {
      "metadata": {
        "_uuid": "e95c227298801058e9dda85d449eb360ff0a6857",
        "trusted": true,
        "_cell_guid": "b61c3608-9074-40a2-8dd5-f50ec8b538b2"
      },
      "cell_type": "code",
      "source": "df_train$text_fitted <- arrange(text_lm_fit$pred, rowIndex)[[\"Y\"]]\n# predict(text_lm_fit, train_names, type = \"prob\")",
      "execution_count": null,
      "outputs": []
    },
    {
      "metadata": {
        "_uuid": "346d347e8ce3271d60ff742645ca978cf27432d4",
        "trusted": true,
        "_cell_guid": "bf52398b-1d2e-4597-9805-4580a66ff280"
      },
      "cell_type": "code",
      "source": "head(df_train)\nstr(df_train)",
      "execution_count": null,
      "outputs": []
    },
    {
      "metadata": {
        "_uuid": "1096ecc021484fddeb5afc9830482bbd14091ced",
        "trusted": true,
        "_cell_guid": "30019105-1226-42ff-ac3b-0021234b2efd"
      },
      "cell_type": "code",
      "source": "X_train <- df_train %>% \n    select(Age, Fare, SibSp, Parch, Pclass_fitted, Sex_fitted, Cabin_letter_fitted, Embarked_fitted, text_fitted) %>% \n    as.matrix()",
      "execution_count": null,
      "outputs": []
    },
    {
      "metadata": {
        "_uuid": "36a179febecc6e735ae991d937d7d25695328f6a",
        "trusted": true,
        "_cell_guid": "54328692-d875-4904-aadd-0db515047490"
      },
      "cell_type": "code",
      "source": "xgb_model <- train(X_train, factor(df_train$Survived, label = c(\"N\", \"Y\")), method = \"xgbTree\", \n                   trControl = trainControl(method = \"cv\", number = 5, returnData = FALSE, \n                                              savePredictions = \"final\", classProbs = TRUE), \n                     tuneGrid = expand.grid(nrounds = c(100, 500, 1000, 2000), \n                                           max_depth = 6, eta = 0.3, gamma = 0, colsample_bytree = 1, \n                                           min_child_weight = 1, subsample = 1))",
      "execution_count": null,
      "outputs": []
    },
    {
      "metadata": {
        "_uuid": "e644a9a7e8683eeb2860e59f38acd2d5bc654b15",
        "trusted": true,
        "_cell_guid": "b0d9885b-a4ba-41a9-b988-49cb28000970"
      },
      "cell_type": "code",
      "source": "1 + 1",
      "execution_count": null,
      "outputs": []
    },
    {
      "metadata": {
        "_uuid": "180c2ec11b4ef25132a61b2806fccb4768b54977",
        "trusted": true,
        "_cell_guid": "b0cf4a56-7f0d-46bc-8ae3-00aa13cda9da"
      },
      "cell_type": "code",
      "source": "lapply(df_train, function(x){sum(is.na(x))})",
      "execution_count": null,
      "outputs": []
    },
    {
      "metadata": {
        "_uuid": "3aa8d2afe4bb2cad33e93d8b42f355fff8645e4a",
        "trusted": true,
        "_cell_guid": "de49f51d-08f9-47ee-9d93-33a4c17ab92b"
      },
      "cell_type": "code",
      "source": "registerDoMC(cores = detectCores() - 1)",
      "execution_count": null,
      "outputs": []
    }
  ],
  "metadata": {
    "kernelspec": {
      "display_name": "R",
      "language": "R",
      "name": "ir"
    },
    "language_info": {
      "mimetype": "text/x-r-source",
      "name": "R",
      "pygments_lexer": "r",
      "version": "3.4.2",
      "file_extension": ".r",
      "codemirror_mode": "r"
    }
  },
  "nbformat": 4,
  "nbformat_minor": 1
}